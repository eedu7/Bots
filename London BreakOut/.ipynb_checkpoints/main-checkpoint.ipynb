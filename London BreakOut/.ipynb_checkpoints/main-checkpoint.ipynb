{
 "cells": [
  {
   "cell_type": "code",
   "execution_count": 1,
   "id": "f79d5114-451f-4bd7-8a35-db26dd83376a",
   "metadata": {},
   "outputs": [],
   "source": [
    "import pandas as pd\n",
    "import MetaTrader5 as mt5\n"
   ]
  },
  {
   "cell_type": "code",
   "execution_count": null,
   "id": "3218f282-208d-433f-a84f-9d5d939e4c0c",
   "metadata": {},
   "outputs": [],
   "source": [
    "from enum import Enum\n",
    "\n",
    "class TimeFrame(Enum):\n",
    "    \n",
    "    ONE_DAY = mt5.TIMEFRAME_D1\n",
    "\n",
    "def get_data(symbol: str, timeframe:):\n",
    "    ..."
   ]
  },
  {
   "cell_type": "markdown",
   "id": "b3b53300-6699-43c8-81e9-a3b93611afd2",
   "metadata": {},
   "source": [
    "https://www.youtube.com/watch?v=Mykyy3COVn4&list=PLNzr8RBV5nboxi7Hg3cv-CuTF2tO70r_P&index=4"
   ]
  }
 ],
 "metadata": {
  "kernelspec": {
   "display_name": "Python 3 (ipykernel)",
   "language": "python",
   "name": "python3"
  },
  "language_info": {
   "codemirror_mode": {
    "name": "ipython",
    "version": 3
   },
   "file_extension": ".py",
   "mimetype": "text/x-python",
   "name": "python",
   "nbconvert_exporter": "python",
   "pygments_lexer": "ipython3",
   "version": "3.10.10"
  }
 },
 "nbformat": 4,
 "nbformat_minor": 5
}
