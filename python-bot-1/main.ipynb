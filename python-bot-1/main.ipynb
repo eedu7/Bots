{
 "cells": [
  {
   "cell_type": "code",
   "execution_count": 1,
   "id": "8d85f631-5ce5-488d-9371-85e4f332dcde",
   "metadata": {},
   "outputs": [],
   "source": [
    "import yfinance as yf\n",
    "import pandas as pd"
   ]
  },
  {
   "cell_type": "code",
   "execution_count": 4,
   "id": "2171c440-3b1b-421d-ba66-6fd0f7c9e9d3",
   "metadata": {},
   "outputs": [
    {
     "name": "stderr",
     "output_type": "stream",
     "text": [
      "[*********************100%***********************]  1 of 1 completed\n",
      "\n",
      "1 Failed download:\n",
      "['EURUSD=X']: YFPricesMissingError('$%ticker%: possibly delisted; no price data found  (15m 2022-09-10 -> 2024-11-07) (Yahoo error = \"15m data not available for startTime=1662764400 and endTime=1730937600. The requested range must be within the last 60 days.\")')\n"
     ]
    },
    {
     "name": "stdout",
     "output_type": "stream",
     "text": [
      "No data fetched. Please check the ticker symbol or date range.\n"
     ]
    }
   ],
   "source": [
    "import yfinance as yf\n",
    "\n",
    "# Correct the date range\n",
    "dataF = yf.download(\"EURUSD=X\", start=\"2022-09-10\", end=\"2024-11-07\", interval=\"15m\")\n",
    "\n",
    "# Check if the DataFrame is not empty before accessing\n",
    "if not dataF.empty:\n",
    "    print(dataF.iloc[-1:, :])  # Access the last row\n",
    "    print(dataF.Open.iloc)    # Access the 'Open' column\n",
    "else:\n",
    "    print(\"No data fetched. Please check the ticker symbol or date range.\")\n"
   ]
  },
  {
   "cell_type": "code",
   "execution_count": null,
   "id": "88d1a967-a6ed-4b78-9fbb-327a9db03fc5",
   "metadata": {},
   "outputs": [],
   "source": []
  }
 ],
 "metadata": {
  "kernelspec": {
   "display_name": "Python 3 (ipykernel)",
   "language": "python",
   "name": "python3"
  },
  "language_info": {
   "codemirror_mode": {
    "name": "ipython",
    "version": 3
   },
   "file_extension": ".py",
   "mimetype": "text/x-python",
   "name": "python",
   "nbconvert_exporter": "python",
   "pygments_lexer": "ipython3",
   "version": "3.12.6"
  }
 },
 "nbformat": 4,
 "nbformat_minor": 5
}
